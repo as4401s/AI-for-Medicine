{
  "nbformat": 4,
  "nbformat_minor": 0,
  "metadata": {
    "colab": {
      "name": "exercise_double-descend.ipynb",
      "provenance": [],
      "include_colab_link": true
    },
    "kernelspec": {
      "name": "python3",
      "display_name": "Python 3"
    },
    "language_info": {
      "name": "python"
    }
  },
  "cells": [
    {
      "cell_type": "markdown",
      "metadata": {
        "id": "view-in-github",
        "colab_type": "text"
      },
      "source": [
        "<a href=\"https://colab.research.google.com/github/as4401s/AI-for-medicine/blob/master/exercise_double_descend.ipynb\" target=\"_parent\"><img src=\"https://colab.research.google.com/assets/colab-badge.svg\" alt=\"Open In Colab\"/></a>"
      ]
    },
    {
      "cell_type": "code",
      "metadata": {
        "colab": {
          "base_uri": "https://localhost:8080/"
        },
        "id": "9SrJRKLC6JZ4",
        "outputId": "4551ca6c-d90c-4572-d8e4-c182eca6304d"
      },
      "source": [
        "!git clone https://github.com/muecke-math/Leibniz-Summer-School-2021"
      ],
      "execution_count": 1,
      "outputs": [
        {
          "output_type": "stream",
          "text": [
            "fatal: destination path 'Leibniz-Summer-School-2021' already exists and is not an empty directory.\n"
          ],
          "name": "stdout"
        }
      ]
    },
    {
      "cell_type": "code",
      "metadata": {
        "colab": {
          "base_uri": "https://localhost:8080/",
          "height": 282
        },
        "id": "-YgV4gsb6EjQ",
        "outputId": "f1722b67-3a6f-407f-a500-9a552c2cd942"
      },
      "source": [
        "# -*- coding: utf-8 -*-\n",
        "\"\"\"\n",
        "Created on Sat Aug 21 14:30:48 2021\n",
        "@author: Nicole\n",
        "\"\"\"\n",
        "\n",
        "#!/usr/bin/env python3\n",
        "# -*- coding: utf-8 -*-\n",
        "\"\"\"\n",
        "Created on Fri Aug 13 20:30:49 2021\n",
        "@author: bayerc\n",
        "\"\"\"\n",
        "\n",
        "import numpy as np\n",
        "import matplotlib.pyplot as plt\n",
        "from sklearn.model_selection import KFold\n",
        "import math\n",
        "\n",
        "#from tqdm.auto import tqdm\n",
        "\n",
        "data_train = np.loadtxt(\"Leibniz-Summer-School-2021/YearPredictionMSD-train-py.txt\")\n",
        "data_test = np.loadtxt(\"Leibniz-Summer-School-2021/YearPredictionMSD-test-py.txt\")\n",
        "Y_train = np.loadtxt(\"Leibniz-Summer-School-2021/YearPredictionMSD-label-train-py.txt\")\n",
        "Y_test = np.loadtxt(\"Leibniz-Summer-School-2021/YearPredictionMSD-label-test-py.txt\")\n",
        "\n",
        "n_train_total, d = data_train.shape\n",
        "n_test_total, _ = data_test.shape\n",
        "\n",
        "def l2_norm(x):\n",
        "    \"\"\"Define L^2-norm.\"\"\"\n",
        "    return np.sqrt(np.mean(x**2))\n",
        "\n",
        "## Note that python is 0-based, hence the end value is one past the actual last value\n",
        "N = np.arange(20, 1001, 10)\n",
        "\n",
        "M = np.array([1,3,5,6,7])\n",
        "\n",
        "Error = np.zeros((len(N), len(M)))\n",
        "\n",
        "## nb of repetitions of the experiment \n",
        "## you can smoothen the curve by increasing K \n",
        "\n",
        "K = 10\n",
        "\n",
        "##### begin loops \n",
        "\n",
        "for _ in range(K):\n",
        "    for j in range(len(N)):\n",
        "        n = N[j]\n",
        "        \n",
        "        ind = np.random.choice(n_train_total, n, replace = False)\n",
        "        \n",
        "        X = data_train[ind,:].transpose()\n",
        "        Y = Y_train[ind]\n",
        "        \n",
        "        for a in range(len(M)):\n",
        "            m=M[a] \n",
        "                        \n",
        "            #beta_loc = np.zeros(d)\n",
        "            \n",
        "            beta_loc = np.zeros(d) \n",
        "            \n",
        "            for mm in range(m):\n",
        "                ind_machines = np.random.choice(n, math.floor(n/m), replace = False)\n",
        "              \n",
        "                XX = X[:,ind_machines]\n",
        "                YY = Y[ind_machines]\n",
        "                    \n",
        "                beta_loc = beta_loc + np.linalg.pinv(XX @ XX.transpose()) @ XX @ YY\n",
        "            \n",
        "                            \n",
        "            beta_ave = beta_loc / m\n",
        "            \n",
        "            \n",
        "            ## test error \n",
        "\n",
        "            n_test = int(n/3)\n",
        "\n",
        "            #ind2 = np.arange(n_test)  \n",
        "            ind2 = np.random.choice(n_test_total, n_test, replace = False)\n",
        "\n",
        "            X_test = data_test[ind2,:]\n",
        "            Y2 = Y_test[ind2]\n",
        "\n",
        "            Error[j,a] = Error[j,a] + l2_norm(X_test @ beta_ave - Y2)\n",
        "\n",
        "\n",
        "####### end loops \n",
        "## averaging \n",
        "            \n",
        "Error = Error / K\n",
        "\n",
        "\n",
        "### plot \n",
        "\n",
        "\n",
        "plt.plot(N, Error[:,0], \"k-\", label=f\"M = {M[0]}\")\n",
        "plt.plot(N, Error[:,1], \"r-\", label=f\"M = {M[1]}\")\n",
        "plt.plot(N, Error[:,2], \"b-\", label=f\"M = {M[2]}\")\n",
        "plt.plot(N, Error[:,3], \"g-\", label=f\"M = {M[3]}\")\n",
        "plt.plot(N, Error[:,4], \"y-\", label=f\"M = {M[4]}\")\n",
        "\n",
        "plt.xlabel(\"sample size\")\n",
        "plt.ylabel(\"Excess Risk\")\n",
        "plt.legend(loc=\"upper right\")\n",
        "plt.show()\n",
        "\n"
      ],
      "execution_count": 5,
      "outputs": [
        {
          "output_type": "display_data",
          "data": {
            "image/png": "[encoded data removed]",
            "text/plain": [
              "<Figure size 432x288 with 1 Axes>"
            ]
          },
          "metadata": {
            "needs_background": "light"
          }
        }
      ]
    }
  ]
}