{
  "nbformat": 4,
  "nbformat_minor": 5,
  "metadata": {
    "kernelspec": {
      "display_name": "Python 3 (ipykernel)",
      "language": "python",
      "name": "python3"
    },
    "language_info": {
      "codemirror_mode": {
        "name": "ipython",
        "version": 3
      },
      "file_extension": ".py",
      "mimetype": "text/x-python",
      "name": "python",
      "nbconvert_exporter": "python",
      "pygments_lexer": "ipython3",
      "version": "3.9.6"
    },
    "colab": {
      "name": "Copy of toy_example_students.ipynb",
      "provenance": [],
      "collapsed_sections": [],
      "include_colab_link": true
    },
    "accelerator": "GPU",
    "widgets": {
      "application/vnd.jupyter.widget-state+json": {
        "ec3eaac3b71a45f2915d91b404e749e2": {
          "model_module": "@jupyter-widgets/controls",
          "model_name": "HBoxModel",
          "model_module_version": "1.5.0",
          "state": {
            "_view_name": "HBoxView",
            "_dom_classes": [],
            "_model_name": "HBoxModel",
            "_view_module": "@jupyter-widgets/controls",
            "_model_module_version": "1.5.0",
            "_view_count": null,
            "_view_module_version": "1.5.0",
            "box_style": "",
            "layout": "IPY_MODEL_81de36d27bb445958f0569f5207a0312",
            "_model_module": "@jupyter-widgets/controls",
            "children": [
              "IPY_MODEL_e48e9350a9d44e31b9f03a31b9db31f7",
              "IPY_MODEL_6d1f08c2a37741939049b68d885d4a4b",
              "IPY_MODEL_69905c220ad84df195ada619e48ba2c7"
            ]
          }
        },
        "81de36d27bb445958f0569f5207a0312": {
          "model_module": "@jupyter-widgets/base",
          "model_name": "LayoutModel",
          "model_module_version": "1.2.0",
          "state": {
            "_view_name": "LayoutView",
            "grid_template_rows": null,
            "right": null,
            "justify_content": null,
            "_view_module": "@jupyter-widgets/base",
            "overflow": null,
            "_model_module_version": "1.2.0",
            "_view_count": null,
            "flex_flow": null,
            "width": null,
            "min_width": null,
            "border": null,
            "align_items": null,
            "bottom": null,
            "_model_module": "@jupyter-widgets/base",
            "top": null,
            "grid_column": null,
            "overflow_y": null,
            "overflow_x": null,
            "grid_auto_flow": null,
            "grid_area": null,
            "grid_template_columns": null,
            "flex": null,
            "_model_name": "LayoutModel",
            "justify_items": null,
            "grid_row": null,
            "max_height": null,
            "align_content": null,
            "visibility": null,
            "align_self": null,
            "height": null,
            "min_height": null,
            "padding": null,
            "grid_auto_rows": null,
            "grid_gap": null,
            "max_width": null,
            "order": null,
            "_view_module_version": "1.2.0",
            "grid_template_areas": null,
            "object_position": null,
            "object_fit": null,
            "grid_auto_columns": null,
            "margin": null,
            "display": null,
            "left": null
          }
        },
        "e48e9350a9d44e31b9f03a31b9db31f7": {
          "model_module": "@jupyter-widgets/controls",
          "model_name": "HTMLModel",
          "model_module_version": "1.5.0",
          "state": {
            "_view_name": "HTMLView",
            "style": "IPY_MODEL_dd43a9505ecd47538b7b0c8a5b493a85",
            "_dom_classes": [],
            "description": "",
            "_model_name": "HTMLModel",
            "placeholder": "​",
            "_view_module": "@jupyter-widgets/controls",
            "_model_module_version": "1.5.0",
            "value": "  0%",
            "_view_count": null,
            "_view_module_version": "1.5.0",
            "description_tooltip": null,
            "_model_module": "@jupyter-widgets/controls",
            "layout": "IPY_MODEL_78f21197cc7f49f390f8518f42194bc1"
          }
        },
        "6d1f08c2a37741939049b68d885d4a4b": {
          "model_module": "@jupyter-widgets/controls",
          "model_name": "FloatProgressModel",
          "model_module_version": "1.5.0",
          "state": {
            "_view_name": "ProgressView",
            "style": "IPY_MODEL_a966da75a33b413988d58119ee631b5d",
            "_dom_classes": [],
            "description": "",
            "_model_name": "FloatProgressModel",
            "bar_style": "danger",
            "max": 500,
            "_view_module": "@jupyter-widgets/controls",
            "_model_module_version": "1.5.0",
            "value": 0,
            "_view_count": null,
            "_view_module_version": "1.5.0",
            "orientation": "horizontal",
            "min": 0,
            "description_tooltip": null,
            "_model_module": "@jupyter-widgets/controls",
            "layout": "IPY_MODEL_efc3953a67b5426d9d1caf52af5314f6"
          }
        },
        "69905c220ad84df195ada619e48ba2c7": {
          "model_module": "@jupyter-widgets/controls",
          "model_name": "HTMLModel",
          "model_module_version": "1.5.0",
          "state": {
            "_view_name": "HTMLView",
            "style": "IPY_MODEL_986d155fbbd84df1b2741d9f0303c320",
            "_dom_classes": [],
            "description": "",
            "_model_name": "HTMLModel",
            "placeholder": "​",
            "_view_module": "@jupyter-widgets/controls",
            "_model_module_version": "1.5.0",
            "value": " 0/500 [00:00&lt;?, ?it/s]",
            "_view_count": null,
            "_view_module_version": "1.5.0",
            "description_tooltip": null,
            "_model_module": "@jupyter-widgets/controls",
            "layout": "IPY_MODEL_fe2de84d77c54097aede46ba3f1fae48"
          }
        },
        "dd43a9505ecd47538b7b0c8a5b493a85": {
          "model_module": "@jupyter-widgets/controls",
          "model_name": "DescriptionStyleModel",
          "model_module_version": "1.5.0",
          "state": {
            "_view_name": "StyleView",
            "_model_name": "DescriptionStyleModel",
            "description_width": "",
            "_view_module": "@jupyter-widgets/base",
            "_model_module_version": "1.5.0",
            "_view_count": null,
            "_view_module_version": "1.2.0",
            "_model_module": "@jupyter-widgets/controls"
          }
        },
        "78f21197cc7f49f390f8518f42194bc1": {
          "model_module": "@jupyter-widgets/base",
          "model_name": "LayoutModel",
          "model_module_version": "1.2.0",
          "state": {
            "_view_name": "LayoutView",
            "grid_template_rows": null,
            "right": null,
            "justify_content": null,
            "_view_module": "@jupyter-widgets/base",
            "overflow": null,
            "_model_module_version": "1.2.0",
            "_view_count": null,
            "flex_flow": null,
            "width": null,
            "min_width": null,
            "border": null,
            "align_items": null,
            "bottom": null,
            "_model_module": "@jupyter-widgets/base",
            "top": null,
            "grid_column": null,
            "overflow_y": null,
            "overflow_x": null,
            "grid_auto_flow": null,
            "grid_area": null,
            "grid_template_columns": null,
            "flex": null,
            "_model_name": "LayoutModel",
            "justify_items": null,
            "grid_row": null,
            "max_height": null,
            "align_content": null,
            "visibility": null,
            "align_self": null,
            "height": null,
            "min_height": null,
            "padding": null,
            "grid_auto_rows": null,
            "grid_gap": null,
            "max_width": null,
            "order": null,
            "_view_module_version": "1.2.0",
            "grid_template_areas": null,
            "object_position": null,
            "object_fit": null,
            "grid_auto_columns": null,
            "margin": null,
            "display": null,
            "left": null
          }
        },
        "a966da75a33b413988d58119ee631b5d": {
          "model_module": "@jupyter-widgets/controls",
          "model_name": "ProgressStyleModel",
          "model_module_version": "1.5.0",
          "state": {
            "_view_name": "StyleView",
            "_model_name": "ProgressStyleModel",
            "description_width": "",
            "_view_module": "@jupyter-widgets/base",
            "_model_module_version": "1.5.0",
            "_view_count": null,
            "_view_module_version": "1.2.0",
            "bar_color": null,
            "_model_module": "@jupyter-widgets/controls"
          }
        },
        "efc3953a67b5426d9d1caf52af5314f6": {
          "model_module": "@jupyter-widgets/base",
          "model_name": "LayoutModel",
          "model_module_version": "1.2.0",
          "state": {
            "_view_name": "LayoutView",
            "grid_template_rows": null,
            "right": null,
            "justify_content": null,
            "_view_module": "@jupyter-widgets/base",
            "overflow": null,
            "_model_module_version": "1.2.0",
            "_view_count": null,
            "flex_flow": null,
            "width": null,
            "min_width": null,
            "border": null,
            "align_items": null,
            "bottom": null,
            "_model_module": "@jupyter-widgets/base",
            "top": null,
            "grid_column": null,
            "overflow_y": null,
            "overflow_x": null,
            "grid_auto_flow": null,
            "grid_area": null,
            "grid_template_columns": null,
            "flex": null,
            "_model_name": "LayoutModel",
            "justify_items": null,
            "grid_row": null,
            "max_height": null,
            "align_content": null,
            "visibility": null,
            "align_self": null,
            "height": null,
            "min_height": null,
            "padding": null,
            "grid_auto_rows": null,
            "grid_gap": null,
            "max_width": null,
            "order": null,
            "_view_module_version": "1.2.0",
            "grid_template_areas": null,
            "object_position": null,
            "object_fit": null,
            "grid_auto_columns": null,
            "margin": null,
            "display": null,
            "left": null
          }
        },
        "986d155fbbd84df1b2741d9f0303c320": {
          "model_module": "@jupyter-widgets/controls",
          "model_name": "DescriptionStyleModel",
          "model_module_version": "1.5.0",
          "state": {
            "_view_name": "StyleView",
            "_model_name": "DescriptionStyleModel",
            "description_width": "",
            "_view_module": "@jupyter-widgets/base",
            "_model_module_version": "1.5.0",
            "_view_count": null,
            "_view_module_version": "1.2.0",
            "_model_module": "@jupyter-widgets/controls"
          }
        },
        "fe2de84d77c54097aede46ba3f1fae48": {
          "model_module": "@jupyter-widgets/base",
          "model_name": "LayoutModel",
          "model_module_version": "1.2.0",
          "state": {
            "_view_name": "LayoutView",
            "grid_template_rows": null,
            "right": null,
            "justify_content": null,
            "_view_module": "@jupyter-widgets/base",
            "overflow": null,
            "_model_module_version": "1.2.0",
            "_view_count": null,
            "flex_flow": null,
            "width": null,
            "min_width": null,
            "border": null,
            "align_items": null,
            "bottom": null,
            "_model_module": "@jupyter-widgets/base",
            "top": null,
            "grid_column": null,
            "overflow_y": null,
            "overflow_x": null,
            "grid_auto_flow": null,
            "grid_area": null,
            "grid_template_columns": null,
            "flex": null,
            "_model_name": "LayoutModel",
            "justify_items": null,
            "grid_row": null,
            "max_height": null,
            "align_content": null,
            "visibility": null,
            "align_self": null,
            "height": null,
            "min_height": null,
            "padding": null,
            "grid_auto_rows": null,
            "grid_gap": null,
            "max_width": null,
            "order": null,
            "_view_module_version": "1.2.0",
            "grid_template_areas": null,
            "object_position": null,
            "object_fit": null,
            "grid_auto_columns": null,
            "margin": null,
            "display": null,
            "left": null
          }
        }
      }
    }
  },
  "cells": [
    {
      "cell_type": "markdown",
      "metadata": {
        "id": "view-in-github",
        "colab_type": "text"
      },
      "source": [
        "<a href=\"https://colab.research.google.com/github/as4401s/AI-for-medicine/blob/master/Copy_of_toy_example_students.ipynb\" target=\"_parent\"><img src=\"https://colab.research.google.com/assets/colab-badge.svg\" alt=\"Open In Colab\"/></a>"
      ]
    },
    {
      "cell_type": "markdown",
      "metadata": {
        "id": "3d979c7f"
      },
      "source": [
        "First we download and import all neccessary packages"
      ],
      "id": "3d979c7f"
    },
    {
      "cell_type": "code",
      "metadata": {
        "id": "5aVhK5fwUFZr",
        "colab": {
          "base_uri": "https://localhost:8080/"
        },
        "outputId": "91326404-af0c-4beb-a9ed-2b28bcccd098"
      },
      "source": [
        "!git clone --depth=1 https://github.com/ntapiam/dagstuhl.git\n",
        "%cd dagstuhl"
      ],
      "id": "5aVhK5fwUFZr",
      "execution_count": null,
      "outputs": [
        {
          "output_type": "stream",
          "text": [
            "fatal: destination path 'dagstuhl' already exists and is not an empty directory.\n",
            "/content/dagstuhl\n"
          ],
          "name": "stdout"
        }
      ]
    },
    {
      "cell_type": "code",
      "metadata": {
        "id": "3f09593d"
      },
      "source": [
        "import isstorch  # Feature extraction procedure\n",
        "\n",
        "from tqdm.notebook import trange # Pretty printing\n",
        "\n",
        "# Some utilities\n",
        "from utils import generate_examples, compute_signatures\n",
        "\n",
        "# Import PyTorch and shorthand some components\n",
        "import torch\n",
        "import torch.nn as nn\n",
        "from torch.optim import Adam\n",
        "from torch.utils.data import DataLoader, TensorDataset\n",
        "from sklearn.model_selection import train_test_split\n",
        "\n",
        "# Utils for plotting\n",
        "import matplotlib.pyplot as plt\n",
        "import seaborn as sns"
      ],
      "id": "3f09593d",
      "execution_count": null,
      "outputs": []
    },
    {
      "cell_type": "markdown",
      "metadata": {
        "id": "XUVWT0xoUa4e"
      },
      "source": [
        "Set the default `torch` device depending on whether there is a GPU available.\n",
        "You can change this by going to `Runtime > Change runtime type` and selecting among the available accelerators (None means CPU).\n",
        "\n",
        "We also run a random example to measure speed and check that everything is working OK."
      ],
      "id": "XUVWT0xoUa4e"
    },
    {
      "cell_type": "code",
      "metadata": {
        "scrolled": true,
        "id": "0727924b",
        "colab": {
          "base_uri": "https://localhost:8080/"
        },
        "outputId": "3533169e-42f8-488a-8f28-d7d68b983412"
      },
      "source": [
        "device = torch.device('cuda') if torch.cuda.is_available() else torch.device('cpu')\n",
        "\n",
        "x = torch.randn(1000, 100, device=device)\n",
        "if torch.cuda.is_available():\n",
        "  with torch.no_grad():\n",
        "    %time isstorch.compute(x); torch.cuda.synchronize('cuda')\n",
        "x = x.to('cpu')\n",
        "with torch.no_grad():\n",
        "  %time isstorch.compute(x);"
      ],
      "id": "0727924b",
      "execution_count": null,
      "outputs": [
        {
          "output_type": "stream",
          "text": [
            "CPU times: user 4.06 ms, sys: 2.02 ms, total: 6.09 ms\n",
            "Wall time: 6.09 ms\n",
            "CPU times: user 231 ms, sys: 67 ms, total: 298 ms\n",
            "Wall time: 293 ms\n"
          ],
          "name": "stdout"
        }
      ]
    },
    {
      "cell_type": "markdown",
      "metadata": {
        "id": "73a55913"
      },
      "source": [
        "Let's look at some samples. The function `generate_samples` outputs a different set of data each time.\n",
        "\n",
        "The dataset is generated from an ARMA(1,1) model with mean equal to 0.5 and different parameters for each class.\n",
        "More precisely, each sample in the class is generated by the recursion\n",
        "$$\n",
        "  x_{t+1} = \\phi x_t + 0.5 + \\epsilon_t + \\theta\\epsilon_{t-1}\n",
        "$$\n",
        "where $\\phi$ and $\\theta$ are class dependent."
      ],
      "id": "73a55913"
    },
    {
      "cell_type": "code",
      "metadata": {
        "scrolled": true,
        "id": "6637121d",
        "colab": {
          "base_uri": "https://localhost:8080/",
          "height": 279
        },
        "outputId": "5d73c574-618f-43fd-9af9-3d1078bf50ce"
      },
      "source": [
        "X, labels = generate_examples()\n",
        "plt.plot(range(100), X[0], label=\"class 0\")\n",
        "plt.plot(range(100), X[500], label=\"class 1\")\n",
        "plt.xlabel('t')\n",
        "plt.legend()\n",
        "plt.show()"
      ],
      "id": "6637121d",
      "execution_count": null,
      "outputs": [
        {
          "output_type": "display_data",
          "data": {
            "image/png": "[encoded data removed]",
            "text/plain": [
              "<Figure size 432x288 with 1 Axes>"
            ]
          },
          "metadata": {
            "needs_background": "light"
          }
        }
      ]
    },
    {
      "cell_type": "markdown",
      "metadata": {
        "id": "27d94aa5"
      },
      "source": [
        "Now, we compute the signature features using our `pytorch` implementation."
      ],
      "id": "27d94aa5"
    },
    {
      "cell_type": "code",
      "metadata": {
        "id": "f9a2bd78",
        "colab": {
          "base_uri": "https://localhost:8080/"
        },
        "outputId": "fde49017-3035-423a-d464-192015b41433"
      },
      "source": [
        "with torch.no_grad():\n",
        "  %time sigs = compute_signatures(X, level=4) # Hyperparameter chosen here!\n",
        "                                              # Play with it and see how it\n",
        "                                              # changes the results\n",
        "\n",
        "sigs.shape # Check how many features we obtain"
      ],
      "id": "f9a2bd78",
      "execution_count": null,
      "outputs": [
        {
          "output_type": "stream",
          "text": [
            "CPU times: user 559 ms, sys: 2.99 ms, total: 562 ms\n",
            "Wall time: 563 ms\n"
          ],
          "name": "stdout"
        },
        {
          "output_type": "execute_result",
          "data": {
            "text/plain": [
              "torch.Size([1000, 15])"
            ]
          },
          "metadata": {},
          "execution_count": 5
        }
      ]
    },
    {
      "cell_type": "markdown",
      "metadata": {
        "id": "5f796922"
      },
      "source": [
        "In order to train and test our Neural Network, we split the data into a training set and a test set using the auxiliary function `train_test_split` from the `sklearn` package. The stratification ensures a balanced distribution of both classes in each split.\n",
        "\n",
        "We use 70% of the data for training. Try modifying this value to see how the results change.\n",
        "\n",
        "We need to wrap the data in a PyTorch `DataLoader` [(docs)](https://pytorch.org/docs/stable/data.html).\n",
        "We also load the data in batches."
      ],
      "id": "5f796922"
    },
    {
      "cell_type": "code",
      "metadata": {
        "id": "0f11e74f"
      },
      "source": [
        "train_sigs, test_sigs, train_labels, test_labels = train_test_split(sigs, labels, stratify=labels, train_size=0.7)\n",
        "train_dataloader = DataLoader(TensorDataset(train_sigs, train_labels), batch_size=100)\n",
        "test_dataloader = DataLoader(TensorDataset(test_sigs, test_labels), batch_size=100)"
      ],
      "id": "0f11e74f",
      "execution_count": null,
      "outputs": []
    },
    {
      "cell_type": "markdown",
      "metadata": {
        "id": "3f294f52"
      },
      "source": [
        "We build our model using by subclassing `torch.nn.Module`.\n",
        "\n",
        "To see all possible layers and activations, please see the `torch.nn` [(docs)](https://pytorch.org/docs/stable/nn.html)."
      ],
      "id": "3f294f52"
    },
    {
      "cell_type": "code",
      "metadata": {
        "id": "f2b3e163"
      },
      "source": [
        "### FILL IN THIS CELL\n",
        "## Write a class implementing a Dense (fully connected) feed forward Neural Network.\n",
        "## Some pointers:\n",
        "## - Make the number of input features a parameter, we'll need it later\n",
        "## - Hint: Use the `torch.nn.Sequential` container to build the layers\n",
        "## - Last layer should have two outputs and apply log(Softmax) to them (PyTorch requirement)\n",
        "## - PyTorch needs you to implement the forward(self, X) method in order forward\n",
        "##   propagate the features through the network.\n",
        "\n",
        "class Feedforward(torch.nn.Module):\n",
        "  def __init__(self,input_size,hidden_size):\n",
        "    super (Feedforward,self).__init__()\n",
        "\n",
        "    self.input_size = input_size\n",
        "    self.hidden_size = hidden_size\n",
        "    self.h11 = torch.nn.Linear(self.input_size,self.hidden_size)\n",
        "    self.relu = torch.nn.ReLU()\n",
        "    self.h12 = torch.nn.Linear(self.hidden_size, self.hidden_size)\n",
        "    self.h13 = torch.nn.Linear(self.hidden_size,self.hidden_size)\n",
        "    self.output_layer = torch.nn.Linear(self.hidden_size, 2)\n",
        "    self.output_activation = torch.nn.Softmax()\n",
        "\n",
        "  def forward(self, x):\n",
        "     hidden = self.h11(x)\n",
        "     relu = self.relu(hidden)\n",
        "     hidden2 = self.h12(relu)\n",
        "     relu2 = self.relu(hidden2)\n",
        "     hidden3 = self.h13(relu2)\n",
        "     relu3 = self.relu(hidden3)\n",
        "     output = self.output_layer(relu3)\n",
        "     output_activation = self.output_activation(output)\n",
        "\n",
        "     return output_activation\n"
      ],
      "id": "f2b3e163",
      "execution_count": null,
      "outputs": []
    },
    {
      "cell_type": "markdown",
      "metadata": {
        "id": "31146f47"
      },
      "source": [
        "Next, we set up the training and testing loops"
      ],
      "id": "31146f47"
    },
    {
      "cell_type": "code",
      "metadata": {
        "id": "524e7150"
      },
      "source": [
        "def train_loop(model, dataloader, loss_fn, optimizer, device):\n",
        "    \n",
        "    ### FILL IN\n",
        "    ## Some pointers:\n",
        "    ## - Load the data in batches by iterating through `dataloader`\n",
        "    ## - Make a prediction using `model` and evaluate it using `loss_fn`\n",
        "    ## - Backpropagate the error through the network\n",
        "    ## - Finally, use `optimizer` to modify the weights (remember to reset them at each batch)\n",
        "\n",
        "    for x,y in dataloader:\n",
        "      x = x.to(device)\n",
        "      y = y.to(device)\n",
        "      pred = model(x)\n",
        "\n",
        "      loss = loss_fn(pred.squeeze(), y)\n",
        "      loss.backward()\n",
        "      optimizer.step()\n",
        "\n",
        "def test_loop(model, dataloader, loss_fn, device):\n",
        "    ### FILL IN\n",
        "    ## Some pointers:\n",
        "    ## - Load the data by iterating through `dataloader`\n",
        "    ## - Make a prediction using `model` and evaluate it using `loss_fn`\n",
        "    ## - Compute the number of correct guesses by comparing your predictions to the 'ground truth'\n",
        "    ## - Return the accuracy and average loss value of your model.\n",
        "    total_samples, batches = len(dataloader.dataset)\n",
        "    with torch.no_grad():\n",
        "      for x,y in dataloader:\n",
        "        x = x.to(device)\n",
        "        y = y.to(device)\n",
        "        pred = model(x)\n",
        "        agree += (pred.argmax(dim=1) == y).type(torch.float).sum()\n",
        "      \n",
        "\n",
        "        loss += loss_fn(pred.squeeze(), y)\n",
        "        loss.backward()\n",
        "        optimizer.step()\n",
        "\n",
        "  \n",
        "      return agree/total_samples, loss/total_samples\n",
        "    return accuracy, avg_loss"
      ],
      "id": "524e7150",
      "execution_count": null,
      "outputs": []
    },
    {
      "cell_type": "markdown",
      "metadata": {
        "id": "7f7d5136"
      },
      "source": [
        "Setup our model, loss function and optimizer [(docs)](https://pytorch.org/docs/stable/optim.html#algorithms). \n",
        "\n",
        "Train the network and output the result."
      ],
      "id": "7f7d5136"
    },
    {
      "cell_type": "code",
      "metadata": {
        "id": "eb4fe2ca",
        "colab": {
          "base_uri": "https://localhost:8080/",
          "height": 546,
          "referenced_widgets": [
            "ec3eaac3b71a45f2915d91b404e749e2",
            "81de36d27bb445958f0569f5207a0312",
            "e48e9350a9d44e31b9f03a31b9db31f7",
            "6d1f08c2a37741939049b68d885d4a4b",
            "69905c220ad84df195ada619e48ba2c7",
            "dd43a9505ecd47538b7b0c8a5b493a85",
            "78f21197cc7f49f390f8518f42194bc1",
            "a966da75a33b413988d58119ee631b5d",
            "efc3953a67b5426d9d1caf52af5314f6",
            "986d155fbbd84df1b2741d9f0303c320",
            "fe2de84d77c54097aede46ba3f1fae48"
          ]
        },
        "outputId": "2c58b50d-dff5-4d0f-a20b-67578a402dcf"
      },
      "source": [
        "%%time\n",
        "model = Feedforward(1,20).to(device) ## FILL IN (remember to call .to(device) if training on the GPU!)\n",
        "optimizer = Adam(model.parameters(), lr=1e-3) # One possible choice of optimizer\n",
        "loss_fn = nn.NLLLoss() ## We choose the Negative Log Likelihood loss\n",
        "\n",
        "epochs = 500  # Hyperparameter, feel free to change it\n",
        "losses = [] # Record the losses during training for some a posteriori analysis\n",
        "accuracies = [] # Same with accuracies\n",
        "\n",
        "# The following is some pretty printing\n",
        "with trange(epochs) as pbar:\n",
        "    for t in pbar:\n",
        "        train_loop(model, train_dataloader, loss_fn, optimizer, device)\n",
        "        acc, avg_loss = test_loop(model, test_dataloader, loss_fn, device)\n",
        "        accuracies.append(acc)\n",
        "        losses.append(avg_loss)\n",
        "        pbar.set_description(f\"Training\")\n",
        "        pbar.set_postfix(loss=avg_loss, accuracy=acc)\n",
        "\n",
        "# Run the test loop once more to verify our accuracy\n",
        "acc, avg_loss = test_loop(model, test_dataloader, loss_fn, device)\n",
        "print(f\"\\nDone! Accuraccy: {acc:.2%}, Loss: {avg_loss:f}\")"
      ],
      "id": "eb4fe2ca",
      "execution_count": null,
      "outputs": [
        {
          "output_type": "display_data",
          "data": {
            "application/vnd.jupyter.widget-view+json": {
              "model_id": "ec3eaac3b71a45f2915d91b404e749e2",
              "version_minor": 0,
              "version_major": 2
            },
            "text/plain": [
              "  0%|          | 0/500 [00:00<?, ?it/s]"
            ]
          },
          "metadata": {}
        },
        {
          "output_type": "stream",
          "text": [
            "/usr/local/lib/python3.7/dist-packages/ipykernel_launcher.py:31: UserWarning: Implicit dimension choice for softmax has been deprecated. Change the call to include dim=X as an argument.\n"
          ],
          "name": "stderr"
        },
        {
          "output_type": "error",
          "ename": "TypeError",
          "evalue": "ignored",
          "traceback": [
            "\u001b[0;31m---------------------------------------------------------------------------\u001b[0m",
            "\u001b[0;31mTypeError\u001b[0m                                 Traceback (most recent call last)",
            "\u001b[0;32m<ipython-input-12-2aa4a6541089>\u001b[0m in \u001b[0;36m<module>\u001b[0;34m()\u001b[0m\n\u001b[0;32m----> 1\u001b[0;31m \u001b[0mget_ipython\u001b[0m\u001b[0;34m(\u001b[0m\u001b[0;34m)\u001b[0m\u001b[0;34m.\u001b[0m\u001b[0mrun_cell_magic\u001b[0m\u001b[0;34m(\u001b[0m\u001b[0;34m'time'\u001b[0m\u001b[0;34m,\u001b[0m \u001b[0;34m''\u001b[0m\u001b[0;34m,\u001b[0m \u001b[0;34m'model = Feedforward(1,20).to(device) ## FILL IN (remember to call .to(device) if training on the GPU!)\\noptimizer = Adam(model.parameters(), lr=1e-3) # One possible choice of optimizer\\nloss_fn = nn.NLLLoss() ## We choose the Negative Log Likelihood loss\\n\\nepochs = 500  # Hyperparameter, feel free to change it\\nlosses = [] # Record the losses during training for some a posteriori analysis\\naccuracies = [] # Same with accuracies\\n\\n# The following is some pretty printing\\nwith trange(epochs) as pbar:\\n    for t in pbar:\\n        train_loop(model, train_dataloader, loss_fn, optimizer, device)\\n        acc, avg_loss = test_loop(model, test_dataloader, loss_fn, device)\\n        accuracies.append(acc)\\n        losses.append(avg_loss)\\n        pbar.set_description(f\"Training\")\\n        pbar.set_postfix(loss=avg_loss, accuracy=acc)\\n\\n# Run the test loop once more to verify our accuracy\\nacc, avg_loss = test_loop(model, test_dataloader, loss_fn, device)\\nprint(f\"\\\\nDone! Accuraccy: {acc:.2%}, Loss: {avg_loss:f}\")'\u001b[0m\u001b[0;34m)\u001b[0m\u001b[0;34m\u001b[0m\u001b[0;34m\u001b[0m\u001b[0m\n\u001b[0m",
            "\u001b[0;32m/usr/local/lib/python3.7/dist-packages/IPython/core/interactiveshell.py\u001b[0m in \u001b[0;36mrun_cell_magic\u001b[0;34m(self, magic_name, line, cell)\u001b[0m\n\u001b[1;32m   2115\u001b[0m             \u001b[0mmagic_arg_s\u001b[0m \u001b[0;34m=\u001b[0m \u001b[0mself\u001b[0m\u001b[0;34m.\u001b[0m\u001b[0mvar_expand\u001b[0m\u001b[0;34m(\u001b[0m\u001b[0mline\u001b[0m\u001b[0;34m,\u001b[0m \u001b[0mstack_depth\u001b[0m\u001b[0;34m)\u001b[0m\u001b[0;34m\u001b[0m\u001b[0;34m\u001b[0m\u001b[0m\n\u001b[1;32m   2116\u001b[0m             \u001b[0;32mwith\u001b[0m \u001b[0mself\u001b[0m\u001b[0;34m.\u001b[0m\u001b[0mbuiltin_trap\u001b[0m\u001b[0;34m:\u001b[0m\u001b[0;34m\u001b[0m\u001b[0;34m\u001b[0m\u001b[0m\n\u001b[0;32m-> 2117\u001b[0;31m                 \u001b[0mresult\u001b[0m \u001b[0;34m=\u001b[0m \u001b[0mfn\u001b[0m\u001b[0;34m(\u001b[0m\u001b[0mmagic_arg_s\u001b[0m\u001b[0;34m,\u001b[0m \u001b[0mcell\u001b[0m\u001b[0;34m)\u001b[0m\u001b[0;34m\u001b[0m\u001b[0;34m\u001b[0m\u001b[0m\n\u001b[0m\u001b[1;32m   2118\u001b[0m             \u001b[0;32mreturn\u001b[0m \u001b[0mresult\u001b[0m\u001b[0;34m\u001b[0m\u001b[0;34m\u001b[0m\u001b[0m\n\u001b[1;32m   2119\u001b[0m \u001b[0;34m\u001b[0m\u001b[0m\n",
            "\u001b[0;32m<decorator-gen-53>\u001b[0m in \u001b[0;36mtime\u001b[0;34m(self, line, cell, local_ns)\u001b[0m\n",
            "\u001b[0;32m/usr/local/lib/python3.7/dist-packages/IPython/core/magic.py\u001b[0m in \u001b[0;36m<lambda>\u001b[0;34m(f, *a, **k)\u001b[0m\n\u001b[1;32m    186\u001b[0m     \u001b[0;31m# but it's overkill for just that one bit of state.\u001b[0m\u001b[0;34m\u001b[0m\u001b[0;34m\u001b[0m\u001b[0;34m\u001b[0m\u001b[0m\n\u001b[1;32m    187\u001b[0m     \u001b[0;32mdef\u001b[0m \u001b[0mmagic_deco\u001b[0m\u001b[0;34m(\u001b[0m\u001b[0marg\u001b[0m\u001b[0;34m)\u001b[0m\u001b[0;34m:\u001b[0m\u001b[0;34m\u001b[0m\u001b[0;34m\u001b[0m\u001b[0m\n\u001b[0;32m--> 188\u001b[0;31m         \u001b[0mcall\u001b[0m \u001b[0;34m=\u001b[0m \u001b[0;32mlambda\u001b[0m \u001b[0mf\u001b[0m\u001b[0;34m,\u001b[0m \u001b[0;34m*\u001b[0m\u001b[0ma\u001b[0m\u001b[0;34m,\u001b[0m \u001b[0;34m**\u001b[0m\u001b[0mk\u001b[0m\u001b[0;34m:\u001b[0m \u001b[0mf\u001b[0m\u001b[0;34m(\u001b[0m\u001b[0;34m*\u001b[0m\u001b[0ma\u001b[0m\u001b[0;34m,\u001b[0m \u001b[0;34m**\u001b[0m\u001b[0mk\u001b[0m\u001b[0;34m)\u001b[0m\u001b[0;34m\u001b[0m\u001b[0;34m\u001b[0m\u001b[0m\n\u001b[0m\u001b[1;32m    189\u001b[0m \u001b[0;34m\u001b[0m\u001b[0m\n\u001b[1;32m    190\u001b[0m         \u001b[0;32mif\u001b[0m \u001b[0mcallable\u001b[0m\u001b[0;34m(\u001b[0m\u001b[0marg\u001b[0m\u001b[0;34m)\u001b[0m\u001b[0;34m:\u001b[0m\u001b[0;34m\u001b[0m\u001b[0;34m\u001b[0m\u001b[0m\n",
            "\u001b[0;32m/usr/local/lib/python3.7/dist-packages/IPython/core/magics/execution.py\u001b[0m in \u001b[0;36mtime\u001b[0;34m(self, line, cell, local_ns)\u001b[0m\n\u001b[1;32m   1191\u001b[0m         \u001b[0;32melse\u001b[0m\u001b[0;34m:\u001b[0m\u001b[0;34m\u001b[0m\u001b[0;34m\u001b[0m\u001b[0m\n\u001b[1;32m   1192\u001b[0m             \u001b[0mst\u001b[0m \u001b[0;34m=\u001b[0m \u001b[0mclock2\u001b[0m\u001b[0;34m(\u001b[0m\u001b[0;34m)\u001b[0m\u001b[0;34m\u001b[0m\u001b[0;34m\u001b[0m\u001b[0m\n\u001b[0;32m-> 1193\u001b[0;31m             \u001b[0mexec\u001b[0m\u001b[0;34m(\u001b[0m\u001b[0mcode\u001b[0m\u001b[0;34m,\u001b[0m \u001b[0mglob\u001b[0m\u001b[0;34m,\u001b[0m \u001b[0mlocal_ns\u001b[0m\u001b[0;34m)\u001b[0m\u001b[0;34m\u001b[0m\u001b[0;34m\u001b[0m\u001b[0m\n\u001b[0m\u001b[1;32m   1194\u001b[0m             \u001b[0mend\u001b[0m \u001b[0;34m=\u001b[0m \u001b[0mclock2\u001b[0m\u001b[0;34m(\u001b[0m\u001b[0;34m)\u001b[0m\u001b[0;34m\u001b[0m\u001b[0;34m\u001b[0m\u001b[0m\n\u001b[1;32m   1195\u001b[0m             \u001b[0mout\u001b[0m \u001b[0;34m=\u001b[0m \u001b[0;32mNone\u001b[0m\u001b[0;34m\u001b[0m\u001b[0;34m\u001b[0m\u001b[0m\n",
            "\u001b[0;32m<timed exec>\u001b[0m in \u001b[0;36m<module>\u001b[0;34m()\u001b[0m\n",
            "\u001b[0;32m<ipython-input-11-1b16f47926e5>\u001b[0m in \u001b[0;36mtest_loop\u001b[0;34m(model, dataloader, loss_fn, device)\u001b[0m\n\u001b[1;32m     24\u001b[0m     \u001b[0;31m## - Compute the number of correct guesses by comparing your predictions to the 'ground truth'\u001b[0m\u001b[0;34m\u001b[0m\u001b[0;34m\u001b[0m\u001b[0;34m\u001b[0m\u001b[0m\n\u001b[1;32m     25\u001b[0m     \u001b[0;31m## - Return the accuracy and average loss value of your model.\u001b[0m\u001b[0;34m\u001b[0m\u001b[0;34m\u001b[0m\u001b[0;34m\u001b[0m\u001b[0m\n\u001b[0;32m---> 26\u001b[0;31m     \u001b[0mtotal_samples\u001b[0m\u001b[0;34m,\u001b[0m \u001b[0mbatches\u001b[0m \u001b[0;34m=\u001b[0m \u001b[0mlen\u001b[0m\u001b[0;34m(\u001b[0m\u001b[0mdataloader\u001b[0m\u001b[0;34m.\u001b[0m\u001b[0mdataset\u001b[0m\u001b[0;34m)\u001b[0m\u001b[0;34m\u001b[0m\u001b[0;34m\u001b[0m\u001b[0m\n\u001b[0m\u001b[1;32m     27\u001b[0m     \u001b[0;32mwith\u001b[0m \u001b[0mtorch\u001b[0m\u001b[0;34m.\u001b[0m\u001b[0mno_grad\u001b[0m\u001b[0;34m(\u001b[0m\u001b[0;34m)\u001b[0m\u001b[0;34m:\u001b[0m\u001b[0;34m\u001b[0m\u001b[0;34m\u001b[0m\u001b[0m\n\u001b[1;32m     28\u001b[0m       \u001b[0;32mfor\u001b[0m \u001b[0mx\u001b[0m\u001b[0;34m,\u001b[0m\u001b[0my\u001b[0m \u001b[0;32min\u001b[0m \u001b[0mdataloader\u001b[0m\u001b[0;34m:\u001b[0m\u001b[0;34m\u001b[0m\u001b[0;34m\u001b[0m\u001b[0m\n",
            "\u001b[0;31mTypeError\u001b[0m: cannot unpack non-iterable int object"
          ]
        }
      ]
    },
    {
      "cell_type": "markdown",
      "metadata": {
        "id": "0NEYm84TuEHp"
      },
      "source": [
        "Now, we can make a predicition on our test data (or even new inputs), which will be given as a probability distribution over class labels.\n",
        "\n",
        "Note that we apply the exponential mapping in order to obtain (true) probabilities, as the network outputs negative log probas."
      ],
      "id": "0NEYm84TuEHp"
    },
    {
      "cell_type": "code",
      "metadata": {
        "id": "EurkCtLfsE-F",
        "colab": {
          "base_uri": "https://localhost:8080/",
          "height": 324
        },
        "outputId": "57a288ce-bef9-4f39-8617-cc0341074d99"
      },
      "source": [
        "preds = model(test_sigs[:10]).exp()"
      ],
      "id": "EurkCtLfsE-F",
      "execution_count": null,
      "outputs": [
        {
          "output_type": "error",
          "ename": "RuntimeError",
          "evalue": "ignored",
          "traceback": [
            "\u001b[0;31m---------------------------------------------------------------------------\u001b[0m",
            "\u001b[0;31mRuntimeError\u001b[0m                              Traceback (most recent call last)",
            "\u001b[0;32m<ipython-input-10-8e4174ca216b>\u001b[0m in \u001b[0;36m<module>\u001b[0;34m()\u001b[0m\n\u001b[0;32m----> 1\u001b[0;31m \u001b[0mpreds\u001b[0m \u001b[0;34m=\u001b[0m \u001b[0mmodel\u001b[0m\u001b[0;34m(\u001b[0m\u001b[0mtest_sigs\u001b[0m\u001b[0;34m[\u001b[0m\u001b[0;34m:\u001b[0m\u001b[0;36m10\u001b[0m\u001b[0;34m]\u001b[0m\u001b[0;34m)\u001b[0m\u001b[0;34m.\u001b[0m\u001b[0mexp\u001b[0m\u001b[0;34m(\u001b[0m\u001b[0;34m)\u001b[0m\u001b[0;34m\u001b[0m\u001b[0;34m\u001b[0m\u001b[0m\n\u001b[0m",
            "\u001b[0;32m/usr/local/lib/python3.7/dist-packages/torch/nn/modules/module.py\u001b[0m in \u001b[0;36m_call_impl\u001b[0;34m(self, *input, **kwargs)\u001b[0m\n\u001b[1;32m   1049\u001b[0m         if not (self._backward_hooks or self._forward_hooks or self._forward_pre_hooks or _global_backward_hooks\n\u001b[1;32m   1050\u001b[0m                 or _global_forward_hooks or _global_forward_pre_hooks):\n\u001b[0;32m-> 1051\u001b[0;31m             \u001b[0;32mreturn\u001b[0m \u001b[0mforward_call\u001b[0m\u001b[0;34m(\u001b[0m\u001b[0;34m*\u001b[0m\u001b[0minput\u001b[0m\u001b[0;34m,\u001b[0m \u001b[0;34m**\u001b[0m\u001b[0mkwargs\u001b[0m\u001b[0;34m)\u001b[0m\u001b[0;34m\u001b[0m\u001b[0;34m\u001b[0m\u001b[0m\n\u001b[0m\u001b[1;32m   1052\u001b[0m         \u001b[0;31m# Do not call functions when jit is used\u001b[0m\u001b[0;34m\u001b[0m\u001b[0;34m\u001b[0m\u001b[0;34m\u001b[0m\u001b[0m\n\u001b[1;32m   1053\u001b[0m         \u001b[0mfull_backward_hooks\u001b[0m\u001b[0;34m,\u001b[0m \u001b[0mnon_full_backward_hooks\u001b[0m \u001b[0;34m=\u001b[0m \u001b[0;34m[\u001b[0m\u001b[0;34m]\u001b[0m\u001b[0;34m,\u001b[0m \u001b[0;34m[\u001b[0m\u001b[0;34m]\u001b[0m\u001b[0;34m\u001b[0m\u001b[0;34m\u001b[0m\u001b[0m\n",
            "\u001b[0;32m<ipython-input-7-bb80398ec2c0>\u001b[0m in \u001b[0;36mforward\u001b[0;34m(self, x)\u001b[0m\n\u001b[1;32m     22\u001b[0m \u001b[0;34m\u001b[0m\u001b[0m\n\u001b[1;32m     23\u001b[0m   \u001b[0;32mdef\u001b[0m \u001b[0mforward\u001b[0m\u001b[0;34m(\u001b[0m\u001b[0mself\u001b[0m\u001b[0;34m,\u001b[0m \u001b[0mx\u001b[0m\u001b[0;34m)\u001b[0m\u001b[0;34m:\u001b[0m\u001b[0;34m\u001b[0m\u001b[0;34m\u001b[0m\u001b[0m\n\u001b[0;32m---> 24\u001b[0;31m      \u001b[0mhidden\u001b[0m \u001b[0;34m=\u001b[0m \u001b[0mself\u001b[0m\u001b[0;34m.\u001b[0m\u001b[0mh11\u001b[0m\u001b[0;34m(\u001b[0m\u001b[0mx\u001b[0m\u001b[0;34m)\u001b[0m\u001b[0;34m\u001b[0m\u001b[0;34m\u001b[0m\u001b[0m\n\u001b[0m\u001b[1;32m     25\u001b[0m      \u001b[0mrelu\u001b[0m \u001b[0;34m=\u001b[0m \u001b[0mself\u001b[0m\u001b[0;34m.\u001b[0m\u001b[0mrelu\u001b[0m\u001b[0;34m(\u001b[0m\u001b[0mhidden\u001b[0m\u001b[0;34m)\u001b[0m\u001b[0;34m\u001b[0m\u001b[0;34m\u001b[0m\u001b[0m\n\u001b[1;32m     26\u001b[0m      \u001b[0mhidden2\u001b[0m \u001b[0;34m=\u001b[0m \u001b[0mself\u001b[0m\u001b[0;34m.\u001b[0m\u001b[0mh12\u001b[0m\u001b[0;34m(\u001b[0m\u001b[0mrelu\u001b[0m\u001b[0;34m)\u001b[0m\u001b[0;34m\u001b[0m\u001b[0;34m\u001b[0m\u001b[0m\n",
            "\u001b[0;32m/usr/local/lib/python3.7/dist-packages/torch/nn/modules/module.py\u001b[0m in \u001b[0;36m_call_impl\u001b[0;34m(self, *input, **kwargs)\u001b[0m\n\u001b[1;32m   1049\u001b[0m         if not (self._backward_hooks or self._forward_hooks or self._forward_pre_hooks or _global_backward_hooks\n\u001b[1;32m   1050\u001b[0m                 or _global_forward_hooks or _global_forward_pre_hooks):\n\u001b[0;32m-> 1051\u001b[0;31m             \u001b[0;32mreturn\u001b[0m \u001b[0mforward_call\u001b[0m\u001b[0;34m(\u001b[0m\u001b[0;34m*\u001b[0m\u001b[0minput\u001b[0m\u001b[0;34m,\u001b[0m \u001b[0;34m**\u001b[0m\u001b[0mkwargs\u001b[0m\u001b[0;34m)\u001b[0m\u001b[0;34m\u001b[0m\u001b[0;34m\u001b[0m\u001b[0m\n\u001b[0m\u001b[1;32m   1052\u001b[0m         \u001b[0;31m# Do not call functions when jit is used\u001b[0m\u001b[0;34m\u001b[0m\u001b[0;34m\u001b[0m\u001b[0;34m\u001b[0m\u001b[0m\n\u001b[1;32m   1053\u001b[0m         \u001b[0mfull_backward_hooks\u001b[0m\u001b[0;34m,\u001b[0m \u001b[0mnon_full_backward_hooks\u001b[0m \u001b[0;34m=\u001b[0m \u001b[0;34m[\u001b[0m\u001b[0;34m]\u001b[0m\u001b[0;34m,\u001b[0m \u001b[0;34m[\u001b[0m\u001b[0;34m]\u001b[0m\u001b[0;34m\u001b[0m\u001b[0;34m\u001b[0m\u001b[0m\n",
            "\u001b[0;32m/usr/local/lib/python3.7/dist-packages/torch/nn/modules/linear.py\u001b[0m in \u001b[0;36mforward\u001b[0;34m(self, input)\u001b[0m\n\u001b[1;32m     94\u001b[0m \u001b[0;34m\u001b[0m\u001b[0m\n\u001b[1;32m     95\u001b[0m     \u001b[0;32mdef\u001b[0m \u001b[0mforward\u001b[0m\u001b[0;34m(\u001b[0m\u001b[0mself\u001b[0m\u001b[0;34m,\u001b[0m \u001b[0minput\u001b[0m\u001b[0;34m:\u001b[0m \u001b[0mTensor\u001b[0m\u001b[0;34m)\u001b[0m \u001b[0;34m->\u001b[0m \u001b[0mTensor\u001b[0m\u001b[0;34m:\u001b[0m\u001b[0;34m\u001b[0m\u001b[0;34m\u001b[0m\u001b[0m\n\u001b[0;32m---> 96\u001b[0;31m         \u001b[0;32mreturn\u001b[0m \u001b[0mF\u001b[0m\u001b[0;34m.\u001b[0m\u001b[0mlinear\u001b[0m\u001b[0;34m(\u001b[0m\u001b[0minput\u001b[0m\u001b[0;34m,\u001b[0m \u001b[0mself\u001b[0m\u001b[0;34m.\u001b[0m\u001b[0mweight\u001b[0m\u001b[0;34m,\u001b[0m \u001b[0mself\u001b[0m\u001b[0;34m.\u001b[0m\u001b[0mbias\u001b[0m\u001b[0;34m)\u001b[0m\u001b[0;34m\u001b[0m\u001b[0;34m\u001b[0m\u001b[0m\n\u001b[0m\u001b[1;32m     97\u001b[0m \u001b[0;34m\u001b[0m\u001b[0m\n\u001b[1;32m     98\u001b[0m     \u001b[0;32mdef\u001b[0m \u001b[0mextra_repr\u001b[0m\u001b[0;34m(\u001b[0m\u001b[0mself\u001b[0m\u001b[0;34m)\u001b[0m \u001b[0;34m->\u001b[0m \u001b[0mstr\u001b[0m\u001b[0;34m:\u001b[0m\u001b[0;34m\u001b[0m\u001b[0;34m\u001b[0m\u001b[0m\n",
            "\u001b[0;32m/usr/local/lib/python3.7/dist-packages/torch/nn/functional.py\u001b[0m in \u001b[0;36mlinear\u001b[0;34m(input, weight, bias)\u001b[0m\n\u001b[1;32m   1845\u001b[0m     \u001b[0;32mif\u001b[0m \u001b[0mhas_torch_function_variadic\u001b[0m\u001b[0;34m(\u001b[0m\u001b[0minput\u001b[0m\u001b[0;34m,\u001b[0m \u001b[0mweight\u001b[0m\u001b[0;34m)\u001b[0m\u001b[0;34m:\u001b[0m\u001b[0;34m\u001b[0m\u001b[0;34m\u001b[0m\u001b[0m\n\u001b[1;32m   1846\u001b[0m         \u001b[0;32mreturn\u001b[0m \u001b[0mhandle_torch_function\u001b[0m\u001b[0;34m(\u001b[0m\u001b[0mlinear\u001b[0m\u001b[0;34m,\u001b[0m \u001b[0;34m(\u001b[0m\u001b[0minput\u001b[0m\u001b[0;34m,\u001b[0m \u001b[0mweight\u001b[0m\u001b[0;34m)\u001b[0m\u001b[0;34m,\u001b[0m \u001b[0minput\u001b[0m\u001b[0;34m,\u001b[0m \u001b[0mweight\u001b[0m\u001b[0;34m,\u001b[0m \u001b[0mbias\u001b[0m\u001b[0;34m=\u001b[0m\u001b[0mbias\u001b[0m\u001b[0;34m)\u001b[0m\u001b[0;34m\u001b[0m\u001b[0;34m\u001b[0m\u001b[0m\n\u001b[0;32m-> 1847\u001b[0;31m     \u001b[0;32mreturn\u001b[0m \u001b[0mtorch\u001b[0m\u001b[0;34m.\u001b[0m\u001b[0m_C\u001b[0m\u001b[0;34m.\u001b[0m\u001b[0m_nn\u001b[0m\u001b[0;34m.\u001b[0m\u001b[0mlinear\u001b[0m\u001b[0;34m(\u001b[0m\u001b[0minput\u001b[0m\u001b[0;34m,\u001b[0m \u001b[0mweight\u001b[0m\u001b[0;34m,\u001b[0m \u001b[0mbias\u001b[0m\u001b[0;34m)\u001b[0m\u001b[0;34m\u001b[0m\u001b[0;34m\u001b[0m\u001b[0m\n\u001b[0m\u001b[1;32m   1848\u001b[0m \u001b[0;34m\u001b[0m\u001b[0m\n\u001b[1;32m   1849\u001b[0m \u001b[0;34m\u001b[0m\u001b[0m\n",
            "\u001b[0;31mRuntimeError\u001b[0m: Expected all tensors to be on the same device, but found at least two devices, cuda:0 and cpu! (when checking arugment for argument mat1 in method wrapper_addmm)"
          ]
        }
      ]
    },
    {
      "cell_type": "markdown",
      "metadata": {
        "id": "IYdBTLwjuf8n"
      },
      "source": [
        "We check that they sum to 1 for each example."
      ],
      "id": "IYdBTLwjuf8n"
    },
    {
      "cell_type": "code",
      "metadata": {
        "id": "crgNwQUrunrK"
      },
      "source": [
        "torch.allclose(preds.sum(dim=1), torch.ones(10)) # Need to use `allclose` to account for floating point errors"
      ],
      "id": "crgNwQUrunrK",
      "execution_count": null,
      "outputs": []
    },
    {
      "cell_type": "markdown",
      "metadata": {
        "id": "HGv4o4ocwUWe"
      },
      "source": [
        " The predicted label is the one with the highest probability."
      ],
      "id": "HGv4o4ocwUWe"
    },
    {
      "cell_type": "code",
      "metadata": {
        "id": "Zda9btrxuxYT"
      },
      "source": [
        "preds.argmax(dim=1), test_labels[:10]"
      ],
      "id": "Zda9btrxuxYT",
      "execution_count": null,
      "outputs": []
    },
    {
      "cell_type": "markdown",
      "metadata": {
        "id": "1xFUPRc90ENd"
      },
      "source": [
        "The following cell plots the evolution of the total loss and accuracy across training epochs."
      ],
      "id": "1xFUPRc90ENd"
    },
    {
      "cell_type": "code",
      "metadata": {
        "id": "xTL6ueOcWbIW"
      },
      "source": [
        "sns.set_theme() # Prettify plots\n",
        "fig, ax1 = plt.subplots()\n",
        "ax2 = ax1.twinx()\n",
        "ax1.plot(range(epochs), losses, color='tab:red')\n",
        "ax2.plot(range(epochs), accuracies, color='tab:blue')\n",
        "ax1.set_xlabel('epochs')\n",
        "ax1.set_ylabel('losses')\n",
        "ax2.set_ylim(bottom=0, top=1)\n",
        "ax2.set_ylabel('accuracy')\n",
        "fig.tight_layout()\n",
        "plt.plot()"
      ],
      "id": "xTL6ueOcWbIW",
      "execution_count": null,
      "outputs": []
    },
    {
      "cell_type": "markdown",
      "metadata": {
        "id": "toHZnQ2s0PLw"
      },
      "source": [
        "Next, we compare with the same model but trained on raw time-series data."
      ],
      "id": "toHZnQ2s0PLw"
    },
    {
      "cell_type": "code",
      "metadata": {
        "id": "2fecveXkdKOB"
      },
      "source": [
        "train_data, test_data, train_labels, test_labels = train_test_split(X.flatten(start_dim=1), labels, stratify=labels, train_size=0.7)\n",
        "train_dataloader = DataLoader(TensorDataset(train_data, train_labels), batch_size=100)\n",
        "test_dataloader = DataLoader(TensorDataset(test_data, test_labels), batch_size=100)"
      ],
      "id": "2fecveXkdKOB",
      "execution_count": null,
      "outputs": []
    },
    {
      "cell_type": "code",
      "metadata": {
        "id": "ndZYJ0zfdaPm"
      },
      "source": [
        "%%time\n",
        "in_features=100\n",
        "new_model = ## Use the same model as before with the appropriate parameteres\n",
        "new_optimizer = Adam(new_model.parameters(), lr=1e-3) # Initialize optimizer\n",
        "new_loss_fn = nn.NLLLoss()\n",
        "\n",
        "with trange(epochs) as pbar:\n",
        "    for t in pbar:\n",
        "        train_loop(new_model, train_dataloader, new_loss_fn, new_optimizer, device)\n",
        "        acc, avg_loss = test_loop(new_model, test_dataloader, new_loss_fn, device)\n",
        "        pbar.set_description(f\"Training\")\n",
        "        pbar.set_postfix(loss=avg_loss, accuracy=acc)\n",
        "\n",
        "acc, avg_loss = test_loop(new_model, test_dataloader, new_loss_fn, device)\n",
        "print(f\"\\nDone! Accuraccy: {acc:.2%}, Loss: {avg_loss:f}\")"
      ],
      "id": "ndZYJ0zfdaPm",
      "execution_count": null,
      "outputs": []
    }
  ]
}